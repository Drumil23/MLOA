{
  "cells": [
    {
      "cell_type": "markdown",
      "id": "80950a7b",
      "metadata": {
        "id": "80950a7b"
      },
      "source": [
        "<ins><b>Neural Network & Deep Learning : Experiment No. 1</b></ins>\n",
        "\n",
        "\n",
        "<ins><b>Lab - 1 :</b></ins> Implementation of Perceptron from scratch"
      ]
    },
    {
      "cell_type": "markdown",
      "id": "b686a7e2",
      "metadata": {
        "id": "b686a7e2"
      },
      "source": [
        "# Key components of the Lab Experiment"
      ]
    },
    {
      "cell_type": "markdown",
      "id": "09d8bf45",
      "metadata": {
        "id": "09d8bf45"
      },
      "source": [
        "1. Reading the dataset\n",
        "2. Exploratory Data Analsis\n",
        "3. Pre-processing\n",
        "4. Test-Train Split\n",
        "5. Implementation of the Perceptron\n",
        "6. Tuning the number of epochs\n",
        "7. Final Model\n",
        "8. References"
      ]
    },
    {
      "cell_type": "markdown",
      "id": "715bb81c",
      "metadata": {
        "id": "715bb81c"
      },
      "source": [
        "# Importing the required modules"
      ]
    },
    {
      "cell_type": "code",
      "execution_count": 259,
      "id": "25e39b57",
      "metadata": {
        "id": "25e39b57"
      },
      "outputs": [],
      "source": [
        "# Modules used for data handling and linear algebra operations.\n",
        "import pandas as pd\n",
        "import numpy as np\n",
        "\n",
        "# Modules used for data visualization\n",
        "import matplotlib.pyplot as plt\n",
        "import seaborn as sns\n",
        "sns.set_style()\n",
        "\n",
        "# Modules used for encoding the categorical variables.\n",
        "from sklearn.preprocessing import OneHotEncoder"
      ]
    },
    {
      "cell_type": "markdown",
      "id": "faf23945",
      "metadata": {
        "id": "faf23945"
      },
      "source": [
        "# Reading the dataset"
      ]
    },
    {
      "cell_type": "code",
      "execution_count": 260,
      "id": "9816f1e8",
      "metadata": {
        "id": "9816f1e8"
      },
      "outputs": [],
      "source": [
        "df = pd.read_csv(\"/content/breast-cancer.csv\")"
      ]
    },
    {
      "cell_type": "code",
      "execution_count": 261,
      "id": "bdc7a4cd",
      "metadata": {
        "id": "bdc7a4cd",
        "outputId": "ef4cf1ae-cfc2-4534-cc24-8d9f78f3a8bb",
        "colab": {
          "base_uri": "https://localhost:8080/",
          "height": 273
        }
      },
      "outputs": [
        {
          "output_type": "execute_result",
          "data": {
            "text/plain": [
              "         id diagnosis  radius_mean  texture_mean  perimeter_mean  area_mean  \\\n",
              "0    842302         M        17.99         10.38          122.80     1001.0   \n",
              "1    842517         M        20.57         17.77          132.90     1326.0   \n",
              "2  84300903         M        19.69         21.25          130.00     1203.0   \n",
              "3  84348301         M        11.42         20.38           77.58      386.1   \n",
              "4  84358402         M        20.29         14.34          135.10     1297.0   \n",
              "\n",
              "   smoothness_mean  compactness_mean  concavity_mean  concave points_mean  \\\n",
              "0          0.11840           0.27760          0.3001              0.14710   \n",
              "1          0.08474           0.07864          0.0869              0.07017   \n",
              "2          0.10960           0.15990          0.1974              0.12790   \n",
              "3          0.14250           0.28390          0.2414              0.10520   \n",
              "4          0.10030           0.13280          0.1980              0.10430   \n",
              "\n",
              "   ...  radius_worst  texture_worst  perimeter_worst  area_worst  \\\n",
              "0  ...         25.38          17.33           184.60      2019.0   \n",
              "1  ...         24.99          23.41           158.80      1956.0   \n",
              "2  ...         23.57          25.53           152.50      1709.0   \n",
              "3  ...         14.91          26.50            98.87       567.7   \n",
              "4  ...         22.54          16.67           152.20      1575.0   \n",
              "\n",
              "   smoothness_worst  compactness_worst  concavity_worst  concave points_worst  \\\n",
              "0            0.1622             0.6656           0.7119                0.2654   \n",
              "1            0.1238             0.1866           0.2416                0.1860   \n",
              "2            0.1444             0.4245           0.4504                0.2430   \n",
              "3            0.2098             0.8663           0.6869                0.2575   \n",
              "4            0.1374             0.2050           0.4000                0.1625   \n",
              "\n",
              "   symmetry_worst  fractal_dimension_worst  \n",
              "0          0.4601                  0.11890  \n",
              "1          0.2750                  0.08902  \n",
              "2          0.3613                  0.08758  \n",
              "3          0.6638                  0.17300  \n",
              "4          0.2364                  0.07678  \n",
              "\n",
              "[5 rows x 32 columns]"
            ],
            "text/html": [
              "\n",
              "  <div id=\"df-ba40a2f5-d288-4119-b4d5-d03bdf696128\" class=\"colab-df-container\">\n",
              "    <div>\n",
              "<style scoped>\n",
              "    .dataframe tbody tr th:only-of-type {\n",
              "        vertical-align: middle;\n",
              "    }\n",
              "\n",
              "    .dataframe tbody tr th {\n",
              "        vertical-align: top;\n",
              "    }\n",
              "\n",
              "    .dataframe thead th {\n",
              "        text-align: right;\n",
              "    }\n",
              "</style>\n",
              "<table border=\"1\" class=\"dataframe\">\n",
              "  <thead>\n",
              "    <tr style=\"text-align: right;\">\n",
              "      <th></th>\n",
              "      <th>id</th>\n",
              "      <th>diagnosis</th>\n",
              "      <th>radius_mean</th>\n",
              "      <th>texture_mean</th>\n",
              "      <th>perimeter_mean</th>\n",
              "      <th>area_mean</th>\n",
              "      <th>smoothness_mean</th>\n",
              "      <th>compactness_mean</th>\n",
              "      <th>concavity_mean</th>\n",
              "      <th>concave points_mean</th>\n",
              "      <th>...</th>\n",
              "      <th>radius_worst</th>\n",
              "      <th>texture_worst</th>\n",
              "      <th>perimeter_worst</th>\n",
              "      <th>area_worst</th>\n",
              "      <th>smoothness_worst</th>\n",
              "      <th>compactness_worst</th>\n",
              "      <th>concavity_worst</th>\n",
              "      <th>concave points_worst</th>\n",
              "      <th>symmetry_worst</th>\n",
              "      <th>fractal_dimension_worst</th>\n",
              "    </tr>\n",
              "  </thead>\n",
              "  <tbody>\n",
              "    <tr>\n",
              "      <th>0</th>\n",
              "      <td>842302</td>\n",
              "      <td>M</td>\n",
              "      <td>17.99</td>\n",
              "      <td>10.38</td>\n",
              "      <td>122.80</td>\n",
              "      <td>1001.0</td>\n",
              "      <td>0.11840</td>\n",
              "      <td>0.27760</td>\n",
              "      <td>0.3001</td>\n",
              "      <td>0.14710</td>\n",
              "      <td>...</td>\n",
              "      <td>25.38</td>\n",
              "      <td>17.33</td>\n",
              "      <td>184.60</td>\n",
              "      <td>2019.0</td>\n",
              "      <td>0.1622</td>\n",
              "      <td>0.6656</td>\n",
              "      <td>0.7119</td>\n",
              "      <td>0.2654</td>\n",
              "      <td>0.4601</td>\n",
              "      <td>0.11890</td>\n",
              "    </tr>\n",
              "    <tr>\n",
              "      <th>1</th>\n",
              "      <td>842517</td>\n",
              "      <td>M</td>\n",
              "      <td>20.57</td>\n",
              "      <td>17.77</td>\n",
              "      <td>132.90</td>\n",
              "      <td>1326.0</td>\n",
              "      <td>0.08474</td>\n",
              "      <td>0.07864</td>\n",
              "      <td>0.0869</td>\n",
              "      <td>0.07017</td>\n",
              "      <td>...</td>\n",
              "      <td>24.99</td>\n",
              "      <td>23.41</td>\n",
              "      <td>158.80</td>\n",
              "      <td>1956.0</td>\n",
              "      <td>0.1238</td>\n",
              "      <td>0.1866</td>\n",
              "      <td>0.2416</td>\n",
              "      <td>0.1860</td>\n",
              "      <td>0.2750</td>\n",
              "      <td>0.08902</td>\n",
              "    </tr>\n",
              "    <tr>\n",
              "      <th>2</th>\n",
              "      <td>84300903</td>\n",
              "      <td>M</td>\n",
              "      <td>19.69</td>\n",
              "      <td>21.25</td>\n",
              "      <td>130.00</td>\n",
              "      <td>1203.0</td>\n",
              "      <td>0.10960</td>\n",
              "      <td>0.15990</td>\n",
              "      <td>0.1974</td>\n",
              "      <td>0.12790</td>\n",
              "      <td>...</td>\n",
              "      <td>23.57</td>\n",
              "      <td>25.53</td>\n",
              "      <td>152.50</td>\n",
              "      <td>1709.0</td>\n",
              "      <td>0.1444</td>\n",
              "      <td>0.4245</td>\n",
              "      <td>0.4504</td>\n",
              "      <td>0.2430</td>\n",
              "      <td>0.3613</td>\n",
              "      <td>0.08758</td>\n",
              "    </tr>\n",
              "    <tr>\n",
              "      <th>3</th>\n",
              "      <td>84348301</td>\n",
              "      <td>M</td>\n",
              "      <td>11.42</td>\n",
              "      <td>20.38</td>\n",
              "      <td>77.58</td>\n",
              "      <td>386.1</td>\n",
              "      <td>0.14250</td>\n",
              "      <td>0.28390</td>\n",
              "      <td>0.2414</td>\n",
              "      <td>0.10520</td>\n",
              "      <td>...</td>\n",
              "      <td>14.91</td>\n",
              "      <td>26.50</td>\n",
              "      <td>98.87</td>\n",
              "      <td>567.7</td>\n",
              "      <td>0.2098</td>\n",
              "      <td>0.8663</td>\n",
              "      <td>0.6869</td>\n",
              "      <td>0.2575</td>\n",
              "      <td>0.6638</td>\n",
              "      <td>0.17300</td>\n",
              "    </tr>\n",
              "    <tr>\n",
              "      <th>4</th>\n",
              "      <td>84358402</td>\n",
              "      <td>M</td>\n",
              "      <td>20.29</td>\n",
              "      <td>14.34</td>\n",
              "      <td>135.10</td>\n",
              "      <td>1297.0</td>\n",
              "      <td>0.10030</td>\n",
              "      <td>0.13280</td>\n",
              "      <td>0.1980</td>\n",
              "      <td>0.10430</td>\n",
              "      <td>...</td>\n",
              "      <td>22.54</td>\n",
              "      <td>16.67</td>\n",
              "      <td>152.20</td>\n",
              "      <td>1575.0</td>\n",
              "      <td>0.1374</td>\n",
              "      <td>0.2050</td>\n",
              "      <td>0.4000</td>\n",
              "      <td>0.1625</td>\n",
              "      <td>0.2364</td>\n",
              "      <td>0.07678</td>\n",
              "    </tr>\n",
              "  </tbody>\n",
              "</table>\n",
              "<p>5 rows × 32 columns</p>\n",
              "</div>\n",
              "    <div class=\"colab-df-buttons\">\n",
              "\n",
              "  <div class=\"colab-df-container\">\n",
              "    <button class=\"colab-df-convert\" onclick=\"convertToInteractive('df-ba40a2f5-d288-4119-b4d5-d03bdf696128')\"\n",
              "            title=\"Convert this dataframe to an interactive table.\"\n",
              "            style=\"display:none;\">\n",
              "\n",
              "  <svg xmlns=\"http://www.w3.org/2000/svg\" height=\"24px\" viewBox=\"0 -960 960 960\">\n",
              "    <path d=\"M120-120v-720h720v720H120Zm60-500h600v-160H180v160Zm220 220h160v-160H400v160Zm0 220h160v-160H400v160ZM180-400h160v-160H180v160Zm440 0h160v-160H620v160ZM180-180h160v-160H180v160Zm440 0h160v-160H620v160Z\"/>\n",
              "  </svg>\n",
              "    </button>\n",
              "\n",
              "  <style>\n",
              "    .colab-df-container {\n",
              "      display:flex;\n",
              "      gap: 12px;\n",
              "    }\n",
              "\n",
              "    .colab-df-convert {\n",
              "      background-color: #E8F0FE;\n",
              "      border: none;\n",
              "      border-radius: 50%;\n",
              "      cursor: pointer;\n",
              "      display: none;\n",
              "      fill: #1967D2;\n",
              "      height: 32px;\n",
              "      padding: 0 0 0 0;\n",
              "      width: 32px;\n",
              "    }\n",
              "\n",
              "    .colab-df-convert:hover {\n",
              "      background-color: #E2EBFA;\n",
              "      box-shadow: 0px 1px 2px rgba(60, 64, 67, 0.3), 0px 1px 3px 1px rgba(60, 64, 67, 0.15);\n",
              "      fill: #174EA6;\n",
              "    }\n",
              "\n",
              "    .colab-df-buttons div {\n",
              "      margin-bottom: 4px;\n",
              "    }\n",
              "\n",
              "    [theme=dark] .colab-df-convert {\n",
              "      background-color: #3B4455;\n",
              "      fill: #D2E3FC;\n",
              "    }\n",
              "\n",
              "    [theme=dark] .colab-df-convert:hover {\n",
              "      background-color: #434B5C;\n",
              "      box-shadow: 0px 1px 3px 1px rgba(0, 0, 0, 0.15);\n",
              "      filter: drop-shadow(0px 1px 2px rgba(0, 0, 0, 0.3));\n",
              "      fill: #FFFFFF;\n",
              "    }\n",
              "  </style>\n",
              "\n",
              "    <script>\n",
              "      const buttonEl =\n",
              "        document.querySelector('#df-ba40a2f5-d288-4119-b4d5-d03bdf696128 button.colab-df-convert');\n",
              "      buttonEl.style.display =\n",
              "        google.colab.kernel.accessAllowed ? 'block' : 'none';\n",
              "\n",
              "      async function convertToInteractive(key) {\n",
              "        const element = document.querySelector('#df-ba40a2f5-d288-4119-b4d5-d03bdf696128');\n",
              "        const dataTable =\n",
              "          await google.colab.kernel.invokeFunction('convertToInteractive',\n",
              "                                                    [key], {});\n",
              "        if (!dataTable) return;\n",
              "\n",
              "        const docLinkHtml = 'Like what you see? Visit the ' +\n",
              "          '<a target=\"_blank\" href=https://colab.research.google.com/notebooks/data_table.ipynb>data table notebook</a>'\n",
              "          + ' to learn more about interactive tables.';\n",
              "        element.innerHTML = '';\n",
              "        dataTable['output_type'] = 'display_data';\n",
              "        await google.colab.output.renderOutput(dataTable, element);\n",
              "        const docLink = document.createElement('div');\n",
              "        docLink.innerHTML = docLinkHtml;\n",
              "        element.appendChild(docLink);\n",
              "      }\n",
              "    </script>\n",
              "  </div>\n",
              "\n",
              "\n",
              "<div id=\"df-99b95942-eae0-4fe6-9f0e-53bdf5b86b97\">\n",
              "  <button class=\"colab-df-quickchart\" onclick=\"quickchart('df-99b95942-eae0-4fe6-9f0e-53bdf5b86b97')\"\n",
              "            title=\"Suggest charts\"\n",
              "            style=\"display:none;\">\n",
              "\n",
              "<svg xmlns=\"http://www.w3.org/2000/svg\" height=\"24px\"viewBox=\"0 0 24 24\"\n",
              "     width=\"24px\">\n",
              "    <g>\n",
              "        <path d=\"M19 3H5c-1.1 0-2 .9-2 2v14c0 1.1.9 2 2 2h14c1.1 0 2-.9 2-2V5c0-1.1-.9-2-2-2zM9 17H7v-7h2v7zm4 0h-2V7h2v10zm4 0h-2v-4h2v4z\"/>\n",
              "    </g>\n",
              "</svg>\n",
              "  </button>\n",
              "\n",
              "<style>\n",
              "  .colab-df-quickchart {\n",
              "      --bg-color: #E8F0FE;\n",
              "      --fill-color: #1967D2;\n",
              "      --hover-bg-color: #E2EBFA;\n",
              "      --hover-fill-color: #174EA6;\n",
              "      --disabled-fill-color: #AAA;\n",
              "      --disabled-bg-color: #DDD;\n",
              "  }\n",
              "\n",
              "  [theme=dark] .colab-df-quickchart {\n",
              "      --bg-color: #3B4455;\n",
              "      --fill-color: #D2E3FC;\n",
              "      --hover-bg-color: #434B5C;\n",
              "      --hover-fill-color: #FFFFFF;\n",
              "      --disabled-bg-color: #3B4455;\n",
              "      --disabled-fill-color: #666;\n",
              "  }\n",
              "\n",
              "  .colab-df-quickchart {\n",
              "    background-color: var(--bg-color);\n",
              "    border: none;\n",
              "    border-radius: 50%;\n",
              "    cursor: pointer;\n",
              "    display: none;\n",
              "    fill: var(--fill-color);\n",
              "    height: 32px;\n",
              "    padding: 0;\n",
              "    width: 32px;\n",
              "  }\n",
              "\n",
              "  .colab-df-quickchart:hover {\n",
              "    background-color: var(--hover-bg-color);\n",
              "    box-shadow: 0 1px 2px rgba(60, 64, 67, 0.3), 0 1px 3px 1px rgba(60, 64, 67, 0.15);\n",
              "    fill: var(--button-hover-fill-color);\n",
              "  }\n",
              "\n",
              "  .colab-df-quickchart-complete:disabled,\n",
              "  .colab-df-quickchart-complete:disabled:hover {\n",
              "    background-color: var(--disabled-bg-color);\n",
              "    fill: var(--disabled-fill-color);\n",
              "    box-shadow: none;\n",
              "  }\n",
              "\n",
              "  .colab-df-spinner {\n",
              "    border: 2px solid var(--fill-color);\n",
              "    border-color: transparent;\n",
              "    border-bottom-color: var(--fill-color);\n",
              "    animation:\n",
              "      spin 1s steps(1) infinite;\n",
              "  }\n",
              "\n",
              "  @keyframes spin {\n",
              "    0% {\n",
              "      border-color: transparent;\n",
              "      border-bottom-color: var(--fill-color);\n",
              "      border-left-color: var(--fill-color);\n",
              "    }\n",
              "    20% {\n",
              "      border-color: transparent;\n",
              "      border-left-color: var(--fill-color);\n",
              "      border-top-color: var(--fill-color);\n",
              "    }\n",
              "    30% {\n",
              "      border-color: transparent;\n",
              "      border-left-color: var(--fill-color);\n",
              "      border-top-color: var(--fill-color);\n",
              "      border-right-color: var(--fill-color);\n",
              "    }\n",
              "    40% {\n",
              "      border-color: transparent;\n",
              "      border-right-color: var(--fill-color);\n",
              "      border-top-color: var(--fill-color);\n",
              "    }\n",
              "    60% {\n",
              "      border-color: transparent;\n",
              "      border-right-color: var(--fill-color);\n",
              "    }\n",
              "    80% {\n",
              "      border-color: transparent;\n",
              "      border-right-color: var(--fill-color);\n",
              "      border-bottom-color: var(--fill-color);\n",
              "    }\n",
              "    90% {\n",
              "      border-color: transparent;\n",
              "      border-bottom-color: var(--fill-color);\n",
              "    }\n",
              "  }\n",
              "</style>\n",
              "\n",
              "  <script>\n",
              "    async function quickchart(key) {\n",
              "      const quickchartButtonEl =\n",
              "        document.querySelector('#' + key + ' button');\n",
              "      quickchartButtonEl.disabled = true;  // To prevent multiple clicks.\n",
              "      quickchartButtonEl.classList.add('colab-df-spinner');\n",
              "      try {\n",
              "        const charts = await google.colab.kernel.invokeFunction(\n",
              "            'suggestCharts', [key], {});\n",
              "      } catch (error) {\n",
              "        console.error('Error during call to suggestCharts:', error);\n",
              "      }\n",
              "      quickchartButtonEl.classList.remove('colab-df-spinner');\n",
              "      quickchartButtonEl.classList.add('colab-df-quickchart-complete');\n",
              "    }\n",
              "    (() => {\n",
              "      let quickchartButtonEl =\n",
              "        document.querySelector('#df-99b95942-eae0-4fe6-9f0e-53bdf5b86b97 button');\n",
              "      quickchartButtonEl.style.display =\n",
              "        google.colab.kernel.accessAllowed ? 'block' : 'none';\n",
              "    })();\n",
              "  </script>\n",
              "</div>\n",
              "    </div>\n",
              "  </div>\n"
            ]
          },
          "metadata": {},
          "execution_count": 261
        }
      ],
      "source": [
        "df.head()"
      ]
    },
    {
      "cell_type": "code",
      "execution_count": 262,
      "id": "c20b070f",
      "metadata": {
        "id": "c20b070f",
        "outputId": "caa1ed33-ee42-4f8d-b111-e8fd189fc1cd",
        "colab": {
          "base_uri": "https://localhost:8080/"
        }
      },
      "outputs": [
        {
          "output_type": "stream",
          "name": "stdout",
          "text": [
            "<class 'pandas.core.frame.DataFrame'>\n",
            "RangeIndex: 569 entries, 0 to 568\n",
            "Data columns (total 32 columns):\n",
            " #   Column                   Non-Null Count  Dtype  \n",
            "---  ------                   --------------  -----  \n",
            " 0   id                       569 non-null    int64  \n",
            " 1   diagnosis                569 non-null    object \n",
            " 2   radius_mean              569 non-null    float64\n",
            " 3   texture_mean             569 non-null    float64\n",
            " 4   perimeter_mean           569 non-null    float64\n",
            " 5   area_mean                569 non-null    float64\n",
            " 6   smoothness_mean          569 non-null    float64\n",
            " 7   compactness_mean         569 non-null    float64\n",
            " 8   concavity_mean           569 non-null    float64\n",
            " 9   concave points_mean      569 non-null    float64\n",
            " 10  symmetry_mean            569 non-null    float64\n",
            " 11  fractal_dimension_mean   569 non-null    float64\n",
            " 12  radius_se                569 non-null    float64\n",
            " 13  texture_se               569 non-null    float64\n",
            " 14  perimeter_se             569 non-null    float64\n",
            " 15  area_se                  569 non-null    float64\n",
            " 16  smoothness_se            569 non-null    float64\n",
            " 17  compactness_se           569 non-null    float64\n",
            " 18  concavity_se             569 non-null    float64\n",
            " 19  concave points_se        569 non-null    float64\n",
            " 20  symmetry_se              569 non-null    float64\n",
            " 21  fractal_dimension_se     569 non-null    float64\n",
            " 22  radius_worst             569 non-null    float64\n",
            " 23  texture_worst            569 non-null    float64\n",
            " 24  perimeter_worst          569 non-null    float64\n",
            " 25  area_worst               569 non-null    float64\n",
            " 26  smoothness_worst         569 non-null    float64\n",
            " 27  compactness_worst        569 non-null    float64\n",
            " 28  concavity_worst          569 non-null    float64\n",
            " 29  concave points_worst     569 non-null    float64\n",
            " 30  symmetry_worst           569 non-null    float64\n",
            " 31  fractal_dimension_worst  569 non-null    float64\n",
            "dtypes: float64(30), int64(1), object(1)\n",
            "memory usage: 142.4+ KB\n"
          ]
        }
      ],
      "source": [
        "df.info()"
      ]
    },
    {
      "cell_type": "code",
      "execution_count": 263,
      "id": "73188d61",
      "metadata": {
        "id": "73188d61",
        "outputId": "3a89e2c8-a106-4ab6-fecc-715e223f0574",
        "colab": {
          "base_uri": "https://localhost:8080/",
          "height": 472
        }
      },
      "outputs": [
        {
          "output_type": "display_data",
          "data": {
            "text/plain": [
              "<Figure size 640x480 with 1 Axes>"
            ],
            "image/png": "[encoded data removed]"
          },
          "metadata": {}
        }
      ],
      "source": [
        "df.dtypes.value_counts().plot(kind=\"bar\",\n",
        "                              title=\"Types of Data\",\n",
        "                              xlabel=\"Data Type\",\n",
        "                              ylabel=\"No.of columns\",\n",
        "                              rot=0,\n",
        "                              color=[\"crimson\",\"orange\"])\n",
        "plt.show()"
      ]
    },
    {
      "cell_type": "markdown",
      "id": "c0249710",
      "metadata": {
        "id": "c0249710"
      },
      "source": [
        "The dataset has mainly numeric variables and very\n",
        "ew categorical variables."
      ]
    },
    {
      "cell_type": "markdown",
      "id": "018f2b7c",
      "metadata": {
        "id": "018f2b7c"
      },
      "source": [
        "# Exploratory Data Analysis"
      ]
    },
    {
      "cell_type": "markdown",
      "id": "03fbf4f2",
      "metadata": {
        "id": "03fbf4f2"
      },
      "source": [
        "In Exploratory Data Analysis the following parts are included:\n",
        "1. Seggragation of columns (into categorical and numerical)\n",
        "2. Analysis of Missing Values\n",
        "3. Target Variable Class Distribution"
      ]
    },
    {
      "cell_type": "markdown",
      "id": "dcf1b549",
      "metadata": {
        "id": "dcf1b549"
      },
      "source": [
        "## Seggregating columns"
      ]
    },
    {
      "cell_type": "markdown",
      "id": "7e0855bc",
      "metadata": {
        "id": "7e0855bc"
      },
      "source": [
        "The columns with data type as Object are considered as categorical while others are considered as numerical."
      ]
    },
    {
      "cell_type": "code",
      "execution_count": 264,
      "id": "df762c1d",
      "metadata": {
        "id": "df762c1d"
      },
      "outputs": [],
      "source": [
        "cat_cols = []\n",
        "num_cols = []\n",
        "\n",
        "for i in df.columns:\n",
        "    if df[i].dtype == \"O\":\n",
        "        cat_cols.append(i)\n",
        "    else:\n",
        "        num_cols.append(i)"
      ]
    },
    {
      "cell_type": "markdown",
      "id": "5ada92d8",
      "metadata": {
        "id": "5ada92d8"
      },
      "source": [
        "## Missing Values Analysis"
      ]
    },
    {
      "cell_type": "markdown",
      "id": "6f400de1",
      "metadata": {
        "id": "6f400de1"
      },
      "source": [
        "Since, the UCI data repository mentions missing values as \"?\" instead of null values the analysis has to be carried out accordingly."
      ]
    },
    {
      "cell_type": "code",
      "execution_count": 265,
      "id": "a821c616",
      "metadata": {
        "id": "a821c616"
      },
      "outputs": [],
      "source": [
        "null_freq = []\n",
        "for i in df.columns:\n",
        "    f = dict(df[i].value_counts())\n",
        "    if \"?\" in f.keys():\n",
        "        null_freq.append(f[\"?\"]*100/len(df))\n",
        "    else:\n",
        "        null_freq.append(0)"
      ]
    },
    {
      "cell_type": "markdown",
      "id": "359c6ad7",
      "metadata": {
        "id": "359c6ad7"
      },
      "source": [
        "Only 2% of the rows have null values and hence the rows can be dropped directly instead of applying any imputation techniques."
      ]
    },
    {
      "cell_type": "code",
      "execution_count": 266,
      "id": "5e166215",
      "metadata": {
        "id": "5e166215",
        "outputId": "6a1b8b5f-6669-43d0-b50a-2e8f43703882",
        "colab": {
          "base_uri": "https://localhost:8080/",
          "height": 472
        }
      },
      "outputs": [
        {
          "output_type": "display_data",
          "data": {
            "text/plain": [
              "<Figure size 640x480 with 1 Axes>"
            ],
            "image/png": "[encoded data removed]"
          },
          "metadata": {}
        }
      ],
      "source": [
        "pd.Series(dict(zip(df.columns,null_freq))).plot(kind=\"bar\",\n",
        "                                                rot=0,\n",
        "                                                title=\"Missing Value Frequency\",\n",
        "                                                xlabel=\"Column Name\",\n",
        "                                                ylabel=\"Percentage of missing values\",\n",
        "                                                color=[\"orange\",\"crimson\"])\n",
        "plt.show()"
      ]
    },
    {
      "cell_type": "markdown",
      "id": "651506dc",
      "metadata": {
        "id": "651506dc"
      },
      "source": [
        "## Target Variable Analysis"
      ]
    },
    {
      "cell_type": "markdown",
      "id": "88815f8c",
      "metadata": {
        "id": "88815f8c"
      },
      "source": [
        "The dataset is Fully biased towards \"0.0\" class since has significantly more entries."
      ]
    },
    {
      "cell_type": "code",
      "execution_count": 267,
      "id": "1db7acfa",
      "metadata": {
        "id": "1db7acfa",
        "outputId": "b9ff4b7b-ab44-42a7-c7f6-7363c58b5b51",
        "colab": {
          "base_uri": "https://localhost:8080/",
          "height": 472
        }
      },
      "outputs": [
        {
          "output_type": "display_data",
          "data": {
            "text/plain": [
              "<Figure size 640x480 with 1 Axes>"
            ],
            "image/png": "[encoded data removed]"
          },
          "metadata": {}
        }
      ],
      "source": [
        "df['diagnosis'].value_counts().plot(kind=\"bar\",\n",
        "                           title=\"Class Distribution\",\n",
        "                           xlabel=\"Status of Credit Card Approval\",\n",
        "                           ylabel=\"Frequency of the Status\",\n",
        "                           color=[\"crimson\",\"orange\"],\n",
        "                           rot=0)\n",
        "plt.show()"
      ]
    },
    {
      "cell_type": "markdown",
      "id": "a2c81eb6",
      "metadata": {
        "id": "a2c81eb6"
      },
      "source": [
        "# Pre-processing"
      ]
    },
    {
      "cell_type": "markdown",
      "id": "951e0a95",
      "metadata": {
        "id": "951e0a95"
      },
      "source": [
        "## Handling Missing Values"
      ]
    },
    {
      "cell_type": "code",
      "execution_count": 268,
      "id": "7f11db51",
      "metadata": {
        "id": "7f11db51"
      },
      "outputs": [],
      "source": [
        "df = df.replace({\"?\":None})"
      ]
    },
    {
      "cell_type": "code",
      "execution_count": 269,
      "id": "717ba7e0",
      "metadata": {
        "id": "717ba7e0"
      },
      "outputs": [],
      "source": [
        "df = df.dropna()"
      ]
    },
    {
      "cell_type": "markdown",
      "id": "39e545df",
      "metadata": {
        "id": "39e545df"
      },
      "source": [
        "## Encoding the columns"
      ]
    },
    {
      "cell_type": "code",
      "execution_count": 270,
      "id": "bf6a5872",
      "metadata": {
        "id": "bf6a5872",
        "colab": {
          "base_uri": "https://localhost:8080/"
        },
        "outputId": "876794c9-0ef8-47ab-816a-29478321dc91"
      },
      "outputs": [
        {
          "output_type": "stream",
          "name": "stderr",
          "text": [
            "/usr/local/lib/python3.10/dist-packages/sklearn/preprocessing/_encoders.py:868: FutureWarning: `sparse` was renamed to `sparse_output` in version 1.2 and will be removed in 1.4. `sparse_output` is ignored unless you leave `sparse` to its default value.\n",
            "  warnings.warn(\n"
          ]
        }
      ],
      "source": [
        "encoder = OneHotEncoder(sparse=False)\n",
        "for i in cat_cols:\n",
        "    df[i] = encoder.fit_transform(df[i].values.reshape(-1,1))"
      ]
    },
    {
      "cell_type": "code",
      "execution_count": 271,
      "id": "e5135011",
      "metadata": {
        "id": "e5135011"
      },
      "outputs": [],
      "source": [
        "df = df.reset_index()"
      ]
    },
    {
      "cell_type": "markdown",
      "id": "0894320f",
      "metadata": {
        "id": "0894320f"
      },
      "source": [
        "# Test Train Split"
      ]
    },
    {
      "cell_type": "code",
      "execution_count": 272,
      "id": "cea8cf9c",
      "metadata": {
        "id": "cea8cf9c",
        "outputId": "6555247e-27e9-46a3-851e-fed4bc4061a2",
        "colab": {
          "base_uri": "https://localhost:8080/"
        }
      },
      "outputs": [
        {
          "output_type": "execute_result",
          "data": {
            "text/plain": [
              "512    0.0\n",
              "457    1.0\n",
              "439    1.0\n",
              "298    1.0\n",
              "37     1.0\n",
              "      ... \n",
              "7      0.0\n",
              "408    0.0\n",
              "523    1.0\n",
              "361    1.0\n",
              "553    1.0\n",
              "Name: diagnosis, Length: 171, dtype: float64"
            ]
          },
          "metadata": {},
          "execution_count": 272
        }
      ],
      "source": [
        "from sklearn.model_selection import train_test_split\n",
        "X_train,X_test,y_train,y_test = train_test_split(df,\n",
        "    df['diagnosis'],\n",
        "    test_size = 0.3,\n",
        "    train_size=0.7,\n",
        "    random_state = 0\n",
        ")\n",
        "X_train.pop('diagnosis')\n",
        "X_test.pop('diagnosis')"
      ]
    },
    {
      "cell_type": "code",
      "execution_count": 273,
      "id": "be541c1f",
      "metadata": {
        "id": "be541c1f",
        "outputId": "2c65eaa6-9119-4fd5-b42c-0719804ef105",
        "colab": {
          "base_uri": "https://localhost:8080/",
          "height": 461
        }
      },
      "outputs": [
        {
          "output_type": "execute_result",
          "data": {
            "text/plain": [
              "     index         id  radius_mean  texture_mean  perimeter_mean  area_mean  \\\n",
              "478    478     911685          0.0        11.490           14.59      73.99   \n",
              "303    303     892657          0.0        10.490           18.61      66.86   \n",
              "155    155    8711003          0.0        12.250           17.94      78.27   \n",
              "186    186     874217          1.0        18.310           18.58     118.60   \n",
              "101    101     862722          0.0         6.981           13.43      43.79   \n",
              "..     ...        ...          ...           ...             ...        ...   \n",
              "277    277    8911670          1.0        18.810           19.98     120.90   \n",
              "9        9   84501001          1.0        12.460           24.04      83.97   \n",
              "359    359  901034301          0.0         9.436           18.32      59.82   \n",
              "192    192     875099          0.0         9.720           18.22      60.73   \n",
              "559    559     925291          0.0        11.510           23.93      74.52   \n",
              "\n",
              "     smoothness_mean  compactness_mean  concavity_mean  concave points_mean  \\\n",
              "478            404.9           0.10460         0.08228              0.05308   \n",
              "303            334.3           0.10680         0.06678              0.02297   \n",
              "155            460.3           0.08654         0.06679              0.03885   \n",
              "186           1041.0           0.08588         0.08468              0.08169   \n",
              "101            143.5           0.11700         0.07568              0.00000   \n",
              "..               ...               ...             ...                  ...   \n",
              "277           1102.0           0.08923         0.05884              0.08020   \n",
              "9              475.9           0.11860         0.23960              0.22730   \n",
              "359            278.6           0.10090         0.05956              0.02710   \n",
              "192            288.1           0.06950         0.02344              0.00000   \n",
              "559            403.5           0.09261         0.10210              0.11120   \n",
              "\n",
              "     ...  radius_worst  texture_worst  perimeter_worst  area_worst  \\\n",
              "478  ...      0.003614         12.400            21.90       82.04   \n",
              "303  ...      0.003317         11.060            24.54       70.76   \n",
              "155  ...      0.002484         13.590            25.22       86.60   \n",
              "186  ...      0.001087         21.310            26.36      139.20   \n",
              "101  ...      0.004100          7.930            19.54       50.41   \n",
              "..   ...           ...            ...              ...         ...   \n",
              "277  ...      0.001676         19.960            24.30      129.00   \n",
              "9    ...      0.010080         15.090            40.68       97.65   \n",
              "359  ...      0.002713         12.020            25.02       75.79   \n",
              "192  ...      0.001688          9.968            20.83       62.25   \n",
              "559  ...      0.004738         12.480            37.16       82.28   \n",
              "\n",
              "     smoothness_worst  compactness_worst  concavity_worst  \\\n",
              "478             467.6            0.13520          0.20100   \n",
              "303             375.4            0.14130          0.10440   \n",
              "155             564.2            0.12170          0.17880   \n",
              "186            1410.0            0.12340          0.24450   \n",
              "101             185.2            0.15840          0.12020   \n",
              "..                ...                ...              ...   \n",
              "277            1236.0            0.12430          0.11600   \n",
              "9               711.4            0.18530          1.05800   \n",
              "359             439.6            0.13330          0.10490   \n",
              "192             303.8            0.07117          0.02729   \n",
              "559             474.2            0.12980          0.25170   \n",
              "\n",
              "     concave points_worst  symmetry_worst  fractal_dimension_worst  \n",
              "478               0.25960         0.07431                   0.2941  \n",
              "303               0.08423         0.06528                   0.2213  \n",
              "155               0.19430         0.08211                   0.3113  \n",
              "186               0.35380         0.15710                   0.3206  \n",
              "101               0.00000         0.00000                   0.2932  \n",
              "..                    ...             ...                      ...  \n",
              "277               0.22100         0.12940                   0.2567  \n",
              "9                 1.10500         0.22100                   0.4366  \n",
              "359               0.11440         0.05052                   0.2454  \n",
              "192               0.00000         0.00000                   0.1909  \n",
              "559               0.36300         0.09653                   0.2112  \n",
              "\n",
              "[398 rows x 32 columns]"
            ],
            "text/html": [
              "\n",
              "  <div id=\"df-db57013f-b36c-497c-af43-77e3e564a4da\" class=\"colab-df-container\">\n",
              "    <div>\n",
              "<style scoped>\n",
              "    .dataframe tbody tr th:only-of-type {\n",
              "        vertical-align: middle;\n",
              "    }\n",
              "\n",
              "    .dataframe tbody tr th {\n",
              "        vertical-align: top;\n",
              "    }\n",
              "\n",
              "    .dataframe thead th {\n",
              "        text-align: right;\n",
              "    }\n",
              "</style>\n",
              "<table border=\"1\" class=\"dataframe\">\n",
              "  <thead>\n",
              "    <tr style=\"text-align: right;\">\n",
              "      <th></th>\n",
              "      <th>index</th>\n",
              "      <th>id</th>\n",
              "      <th>radius_mean</th>\n",
              "      <th>texture_mean</th>\n",
              "      <th>perimeter_mean</th>\n",
              "      <th>area_mean</th>\n",
              "      <th>smoothness_mean</th>\n",
              "      <th>compactness_mean</th>\n",
              "      <th>concavity_mean</th>\n",
              "      <th>concave points_mean</th>\n",
              "      <th>...</th>\n",
              "      <th>radius_worst</th>\n",
              "      <th>texture_worst</th>\n",
              "      <th>perimeter_worst</th>\n",
              "      <th>area_worst</th>\n",
              "      <th>smoothness_worst</th>\n",
              "      <th>compactness_worst</th>\n",
              "      <th>concavity_worst</th>\n",
              "      <th>concave points_worst</th>\n",
              "      <th>symmetry_worst</th>\n",
              "      <th>fractal_dimension_worst</th>\n",
              "    </tr>\n",
              "  </thead>\n",
              "  <tbody>\n",
              "    <tr>\n",
              "      <th>478</th>\n",
              "      <td>478</td>\n",
              "      <td>911685</td>\n",
              "      <td>0.0</td>\n",
              "      <td>11.490</td>\n",
              "      <td>14.59</td>\n",
              "      <td>73.99</td>\n",
              "      <td>404.9</td>\n",
              "      <td>0.10460</td>\n",
              "      <td>0.08228</td>\n",
              "      <td>0.05308</td>\n",
              "      <td>...</td>\n",
              "      <td>0.003614</td>\n",
              "      <td>12.400</td>\n",
              "      <td>21.90</td>\n",
              "      <td>82.04</td>\n",
              "      <td>467.6</td>\n",
              "      <td>0.13520</td>\n",
              "      <td>0.20100</td>\n",
              "      <td>0.25960</td>\n",
              "      <td>0.07431</td>\n",
              "      <td>0.2941</td>\n",
              "    </tr>\n",
              "    <tr>\n",
              "      <th>303</th>\n",
              "      <td>303</td>\n",
              "      <td>892657</td>\n",
              "      <td>0.0</td>\n",
              "      <td>10.490</td>\n",
              "      <td>18.61</td>\n",
              "      <td>66.86</td>\n",
              "      <td>334.3</td>\n",
              "      <td>0.10680</td>\n",
              "      <td>0.06678</td>\n",
              "      <td>0.02297</td>\n",
              "      <td>...</td>\n",
              "      <td>0.003317</td>\n",
              "      <td>11.060</td>\n",
              "      <td>24.54</td>\n",
              "      <td>70.76</td>\n",
              "      <td>375.4</td>\n",
              "      <td>0.14130</td>\n",
              "      <td>0.10440</td>\n",
              "      <td>0.08423</td>\n",
              "      <td>0.06528</td>\n",
              "      <td>0.2213</td>\n",
              "    </tr>\n",
              "    <tr>\n",
              "      <th>155</th>\n",
              "      <td>155</td>\n",
              "      <td>8711003</td>\n",
              "      <td>0.0</td>\n",
              "      <td>12.250</td>\n",
              "      <td>17.94</td>\n",
              "      <td>78.27</td>\n",
              "      <td>460.3</td>\n",
              "      <td>0.08654</td>\n",
              "      <td>0.06679</td>\n",
              "      <td>0.03885</td>\n",
              "      <td>...</td>\n",
              "      <td>0.002484</td>\n",
              "      <td>13.590</td>\n",
              "      <td>25.22</td>\n",
              "      <td>86.60</td>\n",
              "      <td>564.2</td>\n",
              "      <td>0.12170</td>\n",
              "      <td>0.17880</td>\n",
              "      <td>0.19430</td>\n",
              "      <td>0.08211</td>\n",
              "      <td>0.3113</td>\n",
              "    </tr>\n",
              "    <tr>\n",
              "      <th>186</th>\n",
              "      <td>186</td>\n",
              "      <td>874217</td>\n",
              "      <td>1.0</td>\n",
              "      <td>18.310</td>\n",
              "      <td>18.58</td>\n",
              "      <td>118.60</td>\n",
              "      <td>1041.0</td>\n",
              "      <td>0.08588</td>\n",
              "      <td>0.08468</td>\n",
              "      <td>0.08169</td>\n",
              "      <td>...</td>\n",
              "      <td>0.001087</td>\n",
              "      <td>21.310</td>\n",
              "      <td>26.36</td>\n",
              "      <td>139.20</td>\n",
              "      <td>1410.0</td>\n",
              "      <td>0.12340</td>\n",
              "      <td>0.24450</td>\n",
              "      <td>0.35380</td>\n",
              "      <td>0.15710</td>\n",
              "      <td>0.3206</td>\n",
              "    </tr>\n",
              "    <tr>\n",
              "      <th>101</th>\n",
              "      <td>101</td>\n",
              "      <td>862722</td>\n",
              "      <td>0.0</td>\n",
              "      <td>6.981</td>\n",
              "      <td>13.43</td>\n",
              "      <td>43.79</td>\n",
              "      <td>143.5</td>\n",
              "      <td>0.11700</td>\n",
              "      <td>0.07568</td>\n",
              "      <td>0.00000</td>\n",
              "      <td>...</td>\n",
              "      <td>0.004100</td>\n",
              "      <td>7.930</td>\n",
              "      <td>19.54</td>\n",
              "      <td>50.41</td>\n",
              "      <td>185.2</td>\n",
              "      <td>0.15840</td>\n",
              "      <td>0.12020</td>\n",
              "      <td>0.00000</td>\n",
              "      <td>0.00000</td>\n",
              "      <td>0.2932</td>\n",
              "    </tr>\n",
              "    <tr>\n",
              "      <th>...</th>\n",
              "      <td>...</td>\n",
              "      <td>...</td>\n",
              "      <td>...</td>\n",
              "      <td>...</td>\n",
              "      <td>...</td>\n",
              "      <td>...</td>\n",
              "      <td>...</td>\n",
              "      <td>...</td>\n",
              "      <td>...</td>\n",
              "      <td>...</td>\n",
              "      <td>...</td>\n",
              "      <td>...</td>\n",
              "      <td>...</td>\n",
              "      <td>...</td>\n",
              "      <td>...</td>\n",
              "      <td>...</td>\n",
              "      <td>...</td>\n",
              "      <td>...</td>\n",
              "      <td>...</td>\n",
              "      <td>...</td>\n",
              "      <td>...</td>\n",
              "    </tr>\n",
              "    <tr>\n",
              "      <th>277</th>\n",
              "      <td>277</td>\n",
              "      <td>8911670</td>\n",
              "      <td>1.0</td>\n",
              "      <td>18.810</td>\n",
              "      <td>19.98</td>\n",
              "      <td>120.90</td>\n",
              "      <td>1102.0</td>\n",
              "      <td>0.08923</td>\n",
              "      <td>0.05884</td>\n",
              "      <td>0.08020</td>\n",
              "      <td>...</td>\n",
              "      <td>0.001676</td>\n",
              "      <td>19.960</td>\n",
              "      <td>24.30</td>\n",
              "      <td>129.00</td>\n",
              "      <td>1236.0</td>\n",
              "      <td>0.12430</td>\n",
              "      <td>0.11600</td>\n",
              "      <td>0.22100</td>\n",
              "      <td>0.12940</td>\n",
              "      <td>0.2567</td>\n",
              "    </tr>\n",
              "    <tr>\n",
              "      <th>9</th>\n",
              "      <td>9</td>\n",
              "      <td>84501001</td>\n",
              "      <td>1.0</td>\n",
              "      <td>12.460</td>\n",
              "      <td>24.04</td>\n",
              "      <td>83.97</td>\n",
              "      <td>475.9</td>\n",
              "      <td>0.11860</td>\n",
              "      <td>0.23960</td>\n",
              "      <td>0.22730</td>\n",
              "      <td>...</td>\n",
              "      <td>0.010080</td>\n",
              "      <td>15.090</td>\n",
              "      <td>40.68</td>\n",
              "      <td>97.65</td>\n",
              "      <td>711.4</td>\n",
              "      <td>0.18530</td>\n",
              "      <td>1.05800</td>\n",
              "      <td>1.10500</td>\n",
              "      <td>0.22100</td>\n",
              "      <td>0.4366</td>\n",
              "    </tr>\n",
              "    <tr>\n",
              "      <th>359</th>\n",
              "      <td>359</td>\n",
              "      <td>901034301</td>\n",
              "      <td>0.0</td>\n",
              "      <td>9.436</td>\n",
              "      <td>18.32</td>\n",
              "      <td>59.82</td>\n",
              "      <td>278.6</td>\n",
              "      <td>0.10090</td>\n",
              "      <td>0.05956</td>\n",
              "      <td>0.02710</td>\n",
              "      <td>...</td>\n",
              "      <td>0.002713</td>\n",
              "      <td>12.020</td>\n",
              "      <td>25.02</td>\n",
              "      <td>75.79</td>\n",
              "      <td>439.6</td>\n",
              "      <td>0.13330</td>\n",
              "      <td>0.10490</td>\n",
              "      <td>0.11440</td>\n",
              "      <td>0.05052</td>\n",
              "      <td>0.2454</td>\n",
              "    </tr>\n",
              "    <tr>\n",
              "      <th>192</th>\n",
              "      <td>192</td>\n",
              "      <td>875099</td>\n",
              "      <td>0.0</td>\n",
              "      <td>9.720</td>\n",
              "      <td>18.22</td>\n",
              "      <td>60.73</td>\n",
              "      <td>288.1</td>\n",
              "      <td>0.06950</td>\n",
              "      <td>0.02344</td>\n",
              "      <td>0.00000</td>\n",
              "      <td>...</td>\n",
              "      <td>0.001688</td>\n",
              "      <td>9.968</td>\n",
              "      <td>20.83</td>\n",
              "      <td>62.25</td>\n",
              "      <td>303.8</td>\n",
              "      <td>0.07117</td>\n",
              "      <td>0.02729</td>\n",
              "      <td>0.00000</td>\n",
              "      <td>0.00000</td>\n",
              "      <td>0.1909</td>\n",
              "    </tr>\n",
              "    <tr>\n",
              "      <th>559</th>\n",
              "      <td>559</td>\n",
              "      <td>925291</td>\n",
              "      <td>0.0</td>\n",
              "      <td>11.510</td>\n",
              "      <td>23.93</td>\n",
              "      <td>74.52</td>\n",
              "      <td>403.5</td>\n",
              "      <td>0.09261</td>\n",
              "      <td>0.10210</td>\n",
              "      <td>0.11120</td>\n",
              "      <td>...</td>\n",
              "      <td>0.004738</td>\n",
              "      <td>12.480</td>\n",
              "      <td>37.16</td>\n",
              "      <td>82.28</td>\n",
              "      <td>474.2</td>\n",
              "      <td>0.12980</td>\n",
              "      <td>0.25170</td>\n",
              "      <td>0.36300</td>\n",
              "      <td>0.09653</td>\n",
              "      <td>0.2112</td>\n",
              "    </tr>\n",
              "  </tbody>\n",
              "</table>\n",
              "<p>398 rows × 32 columns</p>\n",
              "</div>\n",
              "    <div class=\"colab-df-buttons\">\n",
              "\n",
              "  <div class=\"colab-df-container\">\n",
              "    <button class=\"colab-df-convert\" onclick=\"convertToInteractive('df-db57013f-b36c-497c-af43-77e3e564a4da')\"\n",
              "            title=\"Convert this dataframe to an interactive table.\"\n",
              "            style=\"display:none;\">\n",
              "\n",
              "  <svg xmlns=\"http://www.w3.org/2000/svg\" height=\"24px\" viewBox=\"0 -960 960 960\">\n",
              "    <path d=\"M120-120v-720h720v720H120Zm60-500h600v-160H180v160Zm220 220h160v-160H400v160Zm0 220h160v-160H400v160ZM180-400h160v-160H180v160Zm440 0h160v-160H620v160ZM180-180h160v-160H180v160Zm440 0h160v-160H620v160Z\"/>\n",
              "  </svg>\n",
              "    </button>\n",
              "\n",
              "  <style>\n",
              "    .colab-df-container {\n",
              "      display:flex;\n",
              "      gap: 12px;\n",
              "    }\n",
              "\n",
              "    .colab-df-convert {\n",
              "      background-color: #E8F0FE;\n",
              "      border: none;\n",
              "      border-radius: 50%;\n",
              "      cursor: pointer;\n",
              "      display: none;\n",
              "      fill: #1967D2;\n",
              "      height: 32px;\n",
              "      padding: 0 0 0 0;\n",
              "      width: 32px;\n",
              "    }\n",
              "\n",
              "    .colab-df-convert:hover {\n",
              "      background-color: #E2EBFA;\n",
              "      box-shadow: 0px 1px 2px rgba(60, 64, 67, 0.3), 0px 1px 3px 1px rgba(60, 64, 67, 0.15);\n",
              "      fill: #174EA6;\n",
              "    }\n",
              "\n",
              "    .colab-df-buttons div {\n",
              "      margin-bottom: 4px;\n",
              "    }\n",
              "\n",
              "    [theme=dark] .colab-df-convert {\n",
              "      background-color: #3B4455;\n",
              "      fill: #D2E3FC;\n",
              "    }\n",
              "\n",
              "    [theme=dark] .colab-df-convert:hover {\n",
              "      background-color: #434B5C;\n",
              "      box-shadow: 0px 1px 3px 1px rgba(0, 0, 0, 0.15);\n",
              "      filter: drop-shadow(0px 1px 2px rgba(0, 0, 0, 0.3));\n",
              "      fill: #FFFFFF;\n",
              "    }\n",
              "  </style>\n",
              "\n",
              "    <script>\n",
              "      const buttonEl =\n",
              "        document.querySelector('#df-db57013f-b36c-497c-af43-77e3e564a4da button.colab-df-convert');\n",
              "      buttonEl.style.display =\n",
              "        google.colab.kernel.accessAllowed ? 'block' : 'none';\n",
              "\n",
              "      async function convertToInteractive(key) {\n",
              "        const element = document.querySelector('#df-db57013f-b36c-497c-af43-77e3e564a4da');\n",
              "        const dataTable =\n",
              "          await google.colab.kernel.invokeFunction('convertToInteractive',\n",
              "                                                    [key], {});\n",
              "        if (!dataTable) return;\n",
              "\n",
              "        const docLinkHtml = 'Like what you see? Visit the ' +\n",
              "          '<a target=\"_blank\" href=https://colab.research.google.com/notebooks/data_table.ipynb>data table notebook</a>'\n",
              "          + ' to learn more about interactive tables.';\n",
              "        element.innerHTML = '';\n",
              "        dataTable['output_type'] = 'display_data';\n",
              "        await google.colab.output.renderOutput(dataTable, element);\n",
              "        const docLink = document.createElement('div');\n",
              "        docLink.innerHTML = docLinkHtml;\n",
              "        element.appendChild(docLink);\n",
              "      }\n",
              "    </script>\n",
              "  </div>\n",
              "\n",
              "\n",
              "<div id=\"df-6a34e5f0-a759-4799-9767-09c859100cf3\">\n",
              "  <button class=\"colab-df-quickchart\" onclick=\"quickchart('df-6a34e5f0-a759-4799-9767-09c859100cf3')\"\n",
              "            title=\"Suggest charts\"\n",
              "            style=\"display:none;\">\n",
              "\n",
              "<svg xmlns=\"http://www.w3.org/2000/svg\" height=\"24px\"viewBox=\"0 0 24 24\"\n",
              "     width=\"24px\">\n",
              "    <g>\n",
              "        <path d=\"M19 3H5c-1.1 0-2 .9-2 2v14c0 1.1.9 2 2 2h14c1.1 0 2-.9 2-2V5c0-1.1-.9-2-2-2zM9 17H7v-7h2v7zm4 0h-2V7h2v10zm4 0h-2v-4h2v4z\"/>\n",
              "    </g>\n",
              "</svg>\n",
              "  </button>\n",
              "\n",
              "<style>\n",
              "  .colab-df-quickchart {\n",
              "      --bg-color: #E8F0FE;\n",
              "      --fill-color: #1967D2;\n",
              "      --hover-bg-color: #E2EBFA;\n",
              "      --hover-fill-color: #174EA6;\n",
              "      --disabled-fill-color: #AAA;\n",
              "      --disabled-bg-color: #DDD;\n",
              "  }\n",
              "\n",
              "  [theme=dark] .colab-df-quickchart {\n",
              "      --bg-color: #3B4455;\n",
              "      --fill-color: #D2E3FC;\n",
              "      --hover-bg-color: #434B5C;\n",
              "      --hover-fill-color: #FFFFFF;\n",
              "      --disabled-bg-color: #3B4455;\n",
              "      --disabled-fill-color: #666;\n",
              "  }\n",
              "\n",
              "  .colab-df-quickchart {\n",
              "    background-color: var(--bg-color);\n",
              "    border: none;\n",
              "    border-radius: 50%;\n",
              "    cursor: pointer;\n",
              "    display: none;\n",
              "    fill: var(--fill-color);\n",
              "    height: 32px;\n",
              "    padding: 0;\n",
              "    width: 32px;\n",
              "  }\n",
              "\n",
              "  .colab-df-quickchart:hover {\n",
              "    background-color: var(--hover-bg-color);\n",
              "    box-shadow: 0 1px 2px rgba(60, 64, 67, 0.3), 0 1px 3px 1px rgba(60, 64, 67, 0.15);\n",
              "    fill: var(--button-hover-fill-color);\n",
              "  }\n",
              "\n",
              "  .colab-df-quickchart-complete:disabled,\n",
              "  .colab-df-quickchart-complete:disabled:hover {\n",
              "    background-color: var(--disabled-bg-color);\n",
              "    fill: var(--disabled-fill-color);\n",
              "    box-shadow: none;\n",
              "  }\n",
              "\n",
              "  .colab-df-spinner {\n",
              "    border: 2px solid var(--fill-color);\n",
              "    border-color: transparent;\n",
              "    border-bottom-color: var(--fill-color);\n",
              "    animation:\n",
              "      spin 1s steps(1) infinite;\n",
              "  }\n",
              "\n",
              "  @keyframes spin {\n",
              "    0% {\n",
              "      border-color: transparent;\n",
              "      border-bottom-color: var(--fill-color);\n",
              "      border-left-color: var(--fill-color);\n",
              "    }\n",
              "    20% {\n",
              "      border-color: transparent;\n",
              "      border-left-color: var(--fill-color);\n",
              "      border-top-color: var(--fill-color);\n",
              "    }\n",
              "    30% {\n",
              "      border-color: transparent;\n",
              "      border-left-color: var(--fill-color);\n",
              "      border-top-color: var(--fill-color);\n",
              "      border-right-color: var(--fill-color);\n",
              "    }\n",
              "    40% {\n",
              "      border-color: transparent;\n",
              "      border-right-color: var(--fill-color);\n",
              "      border-top-color: var(--fill-color);\n",
              "    }\n",
              "    60% {\n",
              "      border-color: transparent;\n",
              "      border-right-color: var(--fill-color);\n",
              "    }\n",
              "    80% {\n",
              "      border-color: transparent;\n",
              "      border-right-color: var(--fill-color);\n",
              "      border-bottom-color: var(--fill-color);\n",
              "    }\n",
              "    90% {\n",
              "      border-color: transparent;\n",
              "      border-bottom-color: var(--fill-color);\n",
              "    }\n",
              "  }\n",
              "</style>\n",
              "\n",
              "  <script>\n",
              "    async function quickchart(key) {\n",
              "      const quickchartButtonEl =\n",
              "        document.querySelector('#' + key + ' button');\n",
              "      quickchartButtonEl.disabled = true;  // To prevent multiple clicks.\n",
              "      quickchartButtonEl.classList.add('colab-df-spinner');\n",
              "      try {\n",
              "        const charts = await google.colab.kernel.invokeFunction(\n",
              "            'suggestCharts', [key], {});\n",
              "      } catch (error) {\n",
              "        console.error('Error during call to suggestCharts:', error);\n",
              "      }\n",
              "      quickchartButtonEl.classList.remove('colab-df-spinner');\n",
              "      quickchartButtonEl.classList.add('colab-df-quickchart-complete');\n",
              "    }\n",
              "    (() => {\n",
              "      let quickchartButtonEl =\n",
              "        document.querySelector('#df-6a34e5f0-a759-4799-9767-09c859100cf3 button');\n",
              "      quickchartButtonEl.style.display =\n",
              "        google.colab.kernel.accessAllowed ? 'block' : 'none';\n",
              "    })();\n",
              "  </script>\n",
              "</div>\n",
              "    </div>\n",
              "  </div>\n"
            ]
          },
          "metadata": {},
          "execution_count": 273
        }
      ],
      "source": [
        "X_train"
      ]
    },
    {
      "cell_type": "markdown",
      "id": "61d59a88",
      "metadata": {
        "id": "61d59a88"
      },
      "source": [
        "# Perceptron"
      ]
    },
    {
      "cell_type": "code",
      "execution_count": 274,
      "id": "8fe6fd41",
      "metadata": {
        "id": "8fe6fd41"
      },
      "outputs": [],
      "source": [
        "class Perceptron:\n",
        "\n",
        "    # Initialising the required parameters for the perceptron.\n",
        "    def __init__(self, X, y, learning_rate, epochs : int):\n",
        "        self.X = X\n",
        "        self.y = y\n",
        "        self.learning_rate = learning_rate\n",
        "        self.epochs = epochs\n",
        "\n",
        "    # Activation function.\n",
        "    def __activation_function(self,x):\n",
        "        return 1.0 if (x > 0) else 0.0\n",
        "\n",
        "    # The model training or fitting by updating weights.\n",
        "    def fit(self):\n",
        "        n_rows,n_cols = self.X.shape\n",
        "        self.weights = np.zeros((n_cols + 1, 1))\n",
        "        for epoch in range(self.epochs):\n",
        "            for index, features in enumerate(self.X.values):\n",
        "                feature_transposed = np.insert(features, 0, 1).reshape(-1,1)\n",
        "                predicted_target = self.__activation_function(np.dot(feature_transposed.T, self.weights))\n",
        "                flag = np.squeeze(predicted_target) - self.y[index]\n",
        "                if flag != 0:\n",
        "                    self.weights += self.learning_rate*((self.y[index] - predicted_target)*feature_transposed)\n",
        "\n",
        "    # Predicting on a single instance.\n",
        "    def predict(self, X_test):\n",
        "        return self.__activation_function(np.dot(p.weights.reshape(1,-1)[0],X_test))\n",
        "\n",
        "    # Predicting on a larger number of instances and returning accuracy.\n",
        "    def test(self, test_data, y):\n",
        "        x = []\n",
        "        for i in range(len(test_data.values)):\n",
        "            X_test = np.array(test_data.iloc[i])\n",
        "            x.append(p.predict(np.insert(X_test,0,1)) == p.y[i])\n",
        "        return sum(x)*100/len(test_data)"
      ]
    },
    {
      "cell_type": "markdown",
      "id": "a9ed5286",
      "metadata": {
        "id": "a9ed5286"
      },
      "source": [
        "# Initialising the Perceptron Parameters"
      ]
    },
    {
      "cell_type": "code",
      "execution_count": 275,
      "id": "964998c7",
      "metadata": {
        "id": "964998c7"
      },
      "outputs": [],
      "source": [
        "y = np.array(pd.DataFrame(y_train).reset_index().drop([\"index\"],axis=1))\n",
        "X = pd.DataFrame(X_train).reset_index().drop([\"index\"],axis=1)\n",
        "p = Perceptron(X, y, 0.5, 50)"
      ]
    },
    {
      "cell_type": "markdown",
      "id": "da97f561",
      "metadata": {
        "id": "da97f561"
      },
      "source": [
        "# Fitting the model"
      ]
    },
    {
      "cell_type": "code",
      "execution_count": 276,
      "id": "0ad88a66",
      "metadata": {
        "id": "0ad88a66"
      },
      "outputs": [],
      "source": [
        "p.fit()"
      ]
    },
    {
      "cell_type": "markdown",
      "id": "5535102b",
      "metadata": {
        "id": "5535102b"
      },
      "source": [
        "# Test Accuracy"
      ]
    },
    {
      "cell_type": "code",
      "execution_count": 277,
      "id": "f52db71b",
      "metadata": {
        "id": "f52db71b",
        "outputId": "c797a3f4-962a-41ed-bce3-9cc704496c17",
        "colab": {
          "base_uri": "https://localhost:8080/"
        }
      },
      "outputs": [
        {
          "output_type": "execute_result",
          "data": {
            "text/plain": [
              "array([64.9122807])"
            ]
          },
          "metadata": {},
          "execution_count": 277
        }
      ],
      "source": [
        "p.test(pd.DataFrame(X_test).reset_index().drop([\"index\"],axis=1),\n",
        "     np.array(pd.DataFrame(y_test).reset_index().drop([\"index\"],axis=1)))"
      ]
    },
    {
      "cell_type": "markdown",
      "id": "3423cb8b",
      "metadata": {
        "id": "3423cb8b"
      },
      "source": [
        "# Train Accuracy"
      ]
    },
    {
      "cell_type": "code",
      "execution_count": 278,
      "id": "932d0ccb",
      "metadata": {
        "id": "932d0ccb",
        "outputId": "017b284f-e8c0-4470-ab5b-139f8251cd2c",
        "colab": {
          "base_uri": "https://localhost:8080/"
        }
      },
      "outputs": [
        {
          "output_type": "execute_result",
          "data": {
            "text/plain": [
              "array([62.56281407])"
            ]
          },
          "metadata": {},
          "execution_count": 278
        }
      ],
      "source": [
        "p.test(X,y)"
      ]
    },
    {
      "cell_type": "markdown",
      "id": "65ea2d8c",
      "metadata": {
        "id": "65ea2d8c"
      },
      "source": [
        "# Tuning the number of epochs"
      ]
    },
    {
      "cell_type": "code",
      "execution_count": 279,
      "id": "ff3adda4",
      "metadata": {
        "id": "ff3adda4"
      },
      "outputs": [],
      "source": [
        "train_acc = []\n",
        "test_acc = []\n",
        "epochs = []\n",
        "\n",
        "for i in range(20,200,20):\n",
        "    y = np.array(pd.DataFrame(y_train).reset_index().drop([\"index\"],axis=1))\n",
        "    X = pd.DataFrame(X_train).reset_index().drop([\"index\"],axis=1)\n",
        "    p = Perceptron(X, y, 0.5, i)\n",
        "    p.fit()\n",
        "    train_acc.append(p.test(X,y))\n",
        "    test_acc.append(p.test(pd.DataFrame(X_test).reset_index().drop([\"index\"],axis=1),\n",
        "     np.array(pd.DataFrame(y_test).reset_index().drop([\"index\"],axis=1))))\n",
        "    epochs.append(i)"
      ]
    },
    {
      "cell_type": "markdown",
      "id": "b092910e",
      "metadata": {
        "id": "b092910e"
      },
      "source": [
        "# Train-Test Accuracies across different epochs"
      ]
    },
    {
      "cell_type": "code",
      "execution_count": 280,
      "id": "f29e4d13",
      "metadata": {
        "id": "f29e4d13",
        "outputId": "11ce462b-2c79-475b-fcaa-44bd354ba378",
        "colab": {
          "base_uri": "https://localhost:8080/",
          "height": 850
        }
      },
      "outputs": [
        {
          "output_type": "display_data",
          "data": {
            "text/plain": [
              "<Figure size 1000x1000 with 1 Axes>"
            ],
            "image/png": "[encoded data removed]"
          },
          "metadata": {}
        }
      ],
      "source": [
        "plt.figure(figsize=(10,10))\n",
        "plt.plot(epochs,train_acc)\n",
        "plt.plot(epochs,test_acc)\n",
        "plt.xlabel(\"Number of Epochs\")\n",
        "plt.ylabel(\"Accuracy of the model\")\n",
        "plt.legend(['Train Accuracy',\"Test Accuracy\"])\n",
        "plt.show()"
      ]
    },
    {
      "cell_type": "markdown",
      "id": "93264bad",
      "metadata": {
        "id": "93264bad"
      },
      "source": [
        "# Final Model"
      ]
    },
    {
      "cell_type": "code",
      "execution_count": 281,
      "id": "0203ce5a",
      "metadata": {
        "id": "0203ce5a"
      },
      "outputs": [],
      "source": [
        "tuning = pd.DataFrame({\"epochs\":np.array(epochs).squeeze(),\"train accuracy\":np.array(train_acc).squeeze(), \"test accuracy\":np.array(test_acc).squeeze()})"
      ]
    },
    {
      "cell_type": "code",
      "execution_count": 282,
      "id": "8b0528ac",
      "metadata": {
        "id": "8b0528ac"
      },
      "outputs": [],
      "source": [
        "def diff(row):\n",
        "    return row[1] - row[2]"
      ]
    },
    {
      "cell_type": "code",
      "execution_count": 283,
      "id": "efd8bd99",
      "metadata": {
        "id": "efd8bd99"
      },
      "outputs": [],
      "source": [
        "tuning[\"Difference\"] = tuning.apply(diff,axis=1)"
      ]
    },
    {
      "cell_type": "code",
      "execution_count": 284,
      "id": "99eb71d5",
      "metadata": {
        "id": "99eb71d5",
        "outputId": "e288b655-6f12-4069-f01a-e543c7191a80",
        "colab": {
          "base_uri": "https://localhost:8080/",
          "height": 331
        }
      },
      "outputs": [
        {
          "output_type": "execute_result",
          "data": {
            "text/plain": [
              "   epochs  train accuracy  test accuracy  Difference\n",
              "0      20       62.562814      64.912281   -2.349467\n",
              "1      40       62.562814      64.912281   -2.349467\n",
              "2      60       62.562814      64.912281   -2.349467\n",
              "3      80       62.562814      64.912281   -2.349467\n",
              "4     100       62.562814      64.912281   -2.349467\n",
              "5     120       62.562814      64.912281   -2.349467\n",
              "6     140       62.562814      64.912281   -2.349467\n",
              "7     160       62.562814      64.912281   -2.349467\n",
              "8     180       62.562814      64.912281   -2.349467"
            ],
            "text/html": [
              "\n",
              "  <div id=\"df-bf45009f-3072-4765-9627-3e1b7bf3a242\" class=\"colab-df-container\">\n",
              "    <div>\n",
              "<style scoped>\n",
              "    .dataframe tbody tr th:only-of-type {\n",
              "        vertical-align: middle;\n",
              "    }\n",
              "\n",
              "    .dataframe tbody tr th {\n",
              "        vertical-align: top;\n",
              "    }\n",
              "\n",
              "    .dataframe thead th {\n",
              "        text-align: right;\n",
              "    }\n",
              "</style>\n",
              "<table border=\"1\" class=\"dataframe\">\n",
              "  <thead>\n",
              "    <tr style=\"text-align: right;\">\n",
              "      <th></th>\n",
              "      <th>epochs</th>\n",
              "      <th>train accuracy</th>\n",
              "      <th>test accuracy</th>\n",
              "      <th>Difference</th>\n",
              "    </tr>\n",
              "  </thead>\n",
              "  <tbody>\n",
              "    <tr>\n",
              "      <th>0</th>\n",
              "      <td>20</td>\n",
              "      <td>62.562814</td>\n",
              "      <td>64.912281</td>\n",
              "      <td>-2.349467</td>\n",
              "    </tr>\n",
              "    <tr>\n",
              "      <th>1</th>\n",
              "      <td>40</td>\n",
              "      <td>62.562814</td>\n",
              "      <td>64.912281</td>\n",
              "      <td>-2.349467</td>\n",
              "    </tr>\n",
              "    <tr>\n",
              "      <th>2</th>\n",
              "      <td>60</td>\n",
              "      <td>62.562814</td>\n",
              "      <td>64.912281</td>\n",
              "      <td>-2.349467</td>\n",
              "    </tr>\n",
              "    <tr>\n",
              "      <th>3</th>\n",
              "      <td>80</td>\n",
              "      <td>62.562814</td>\n",
              "      <td>64.912281</td>\n",
              "      <td>-2.349467</td>\n",
              "    </tr>\n",
              "    <tr>\n",
              "      <th>4</th>\n",
              "      <td>100</td>\n",
              "      <td>62.562814</td>\n",
              "      <td>64.912281</td>\n",
              "      <td>-2.349467</td>\n",
              "    </tr>\n",
              "    <tr>\n",
              "      <th>5</th>\n",
              "      <td>120</td>\n",
              "      <td>62.562814</td>\n",
              "      <td>64.912281</td>\n",
              "      <td>-2.349467</td>\n",
              "    </tr>\n",
              "    <tr>\n",
              "      <th>6</th>\n",
              "      <td>140</td>\n",
              "      <td>62.562814</td>\n",
              "      <td>64.912281</td>\n",
              "      <td>-2.349467</td>\n",
              "    </tr>\n",
              "    <tr>\n",
              "      <th>7</th>\n",
              "      <td>160</td>\n",
              "      <td>62.562814</td>\n",
              "      <td>64.912281</td>\n",
              "      <td>-2.349467</td>\n",
              "    </tr>\n",
              "    <tr>\n",
              "      <th>8</th>\n",
              "      <td>180</td>\n",
              "      <td>62.562814</td>\n",
              "      <td>64.912281</td>\n",
              "      <td>-2.349467</td>\n",
              "    </tr>\n",
              "  </tbody>\n",
              "</table>\n",
              "</div>\n",
              "    <div class=\"colab-df-buttons\">\n",
              "\n",
              "  <div class=\"colab-df-container\">\n",
              "    <button class=\"colab-df-convert\" onclick=\"convertToInteractive('df-bf45009f-3072-4765-9627-3e1b7bf3a242')\"\n",
              "            title=\"Convert this dataframe to an interactive table.\"\n",
              "            style=\"display:none;\">\n",
              "\n",
              "  <svg xmlns=\"http://www.w3.org/2000/svg\" height=\"24px\" viewBox=\"0 -960 960 960\">\n",
              "    <path d=\"M120-120v-720h720v720H120Zm60-500h600v-160H180v160Zm220 220h160v-160H400v160Zm0 220h160v-160H400v160ZM180-400h160v-160H180v160Zm440 0h160v-160H620v160ZM180-180h160v-160H180v160Zm440 0h160v-160H620v160Z\"/>\n",
              "  </svg>\n",
              "    </button>\n",
              "\n",
              "  <style>\n",
              "    .colab-df-container {\n",
              "      display:flex;\n",
              "      gap: 12px;\n",
              "    }\n",
              "\n",
              "    .colab-df-convert {\n",
              "      background-color: #E8F0FE;\n",
              "      border: none;\n",
              "      border-radius: 50%;\n",
              "      cursor: pointer;\n",
              "      display: none;\n",
              "      fill: #1967D2;\n",
              "      height: 32px;\n",
              "      padding: 0 0 0 0;\n",
              "      width: 32px;\n",
              "    }\n",
              "\n",
              "    .colab-df-convert:hover {\n",
              "      background-color: #E2EBFA;\n",
              "      box-shadow: 0px 1px 2px rgba(60, 64, 67, 0.3), 0px 1px 3px 1px rgba(60, 64, 67, 0.15);\n",
              "      fill: #174EA6;\n",
              "    }\n",
              "\n",
              "    .colab-df-buttons div {\n",
              "      margin-bottom: 4px;\n",
              "    }\n",
              "\n",
              "    [theme=dark] .colab-df-convert {\n",
              "      background-color: #3B4455;\n",
              "      fill: #D2E3FC;\n",
              "    }\n",
              "\n",
              "    [theme=dark] .colab-df-convert:hover {\n",
              "      background-color: #434B5C;\n",
              "      box-shadow: 0px 1px 3px 1px rgba(0, 0, 0, 0.15);\n",
              "      filter: drop-shadow(0px 1px 2px rgba(0, 0, 0, 0.3));\n",
              "      fill: #FFFFFF;\n",
              "    }\n",
              "  </style>\n",
              "\n",
              "    <script>\n",
              "      const buttonEl =\n",
              "        document.querySelector('#df-bf45009f-3072-4765-9627-3e1b7bf3a242 button.colab-df-convert');\n",
              "      buttonEl.style.display =\n",
              "        google.colab.kernel.accessAllowed ? 'block' : 'none';\n",
              "\n",
              "      async function convertToInteractive(key) {\n",
              "        const element = document.querySelector('#df-bf45009f-3072-4765-9627-3e1b7bf3a242');\n",
              "        const dataTable =\n",
              "          await google.colab.kernel.invokeFunction('convertToInteractive',\n",
              "                                                    [key], {});\n",
              "        if (!dataTable) return;\n",
              "\n",
              "        const docLinkHtml = 'Like what you see? Visit the ' +\n",
              "          '<a target=\"_blank\" href=https://colab.research.google.com/notebooks/data_table.ipynb>data table notebook</a>'\n",
              "          + ' to learn more about interactive tables.';\n",
              "        element.innerHTML = '';\n",
              "        dataTable['output_type'] = 'display_data';\n",
              "        await google.colab.output.renderOutput(dataTable, element);\n",
              "        const docLink = document.createElement('div');\n",
              "        docLink.innerHTML = docLinkHtml;\n",
              "        element.appendChild(docLink);\n",
              "      }\n",
              "    </script>\n",
              "  </div>\n",
              "\n",
              "\n",
              "<div id=\"df-95cf4a6f-b5f8-401f-bf66-3c746ab7ed8a\">\n",
              "  <button class=\"colab-df-quickchart\" onclick=\"quickchart('df-95cf4a6f-b5f8-401f-bf66-3c746ab7ed8a')\"\n",
              "            title=\"Suggest charts\"\n",
              "            style=\"display:none;\">\n",
              "\n",
              "<svg xmlns=\"http://www.w3.org/2000/svg\" height=\"24px\"viewBox=\"0 0 24 24\"\n",
              "     width=\"24px\">\n",
              "    <g>\n",
              "        <path d=\"M19 3H5c-1.1 0-2 .9-2 2v14c0 1.1.9 2 2 2h14c1.1 0 2-.9 2-2V5c0-1.1-.9-2-2-2zM9 17H7v-7h2v7zm4 0h-2V7h2v10zm4 0h-2v-4h2v4z\"/>\n",
              "    </g>\n",
              "</svg>\n",
              "  </button>\n",
              "\n",
              "<style>\n",
              "  .colab-df-quickchart {\n",
              "      --bg-color: #E8F0FE;\n",
              "      --fill-color: #1967D2;\n",
              "      --hover-bg-color: #E2EBFA;\n",
              "      --hover-fill-color: #174EA6;\n",
              "      --disabled-fill-color: #AAA;\n",
              "      --disabled-bg-color: #DDD;\n",
              "  }\n",
              "\n",
              "  [theme=dark] .colab-df-quickchart {\n",
              "      --bg-color: #3B4455;\n",
              "      --fill-color: #D2E3FC;\n",
              "      --hover-bg-color: #434B5C;\n",
              "      --hover-fill-color: #FFFFFF;\n",
              "      --disabled-bg-color: #3B4455;\n",
              "      --disabled-fill-color: #666;\n",
              "  }\n",
              "\n",
              "  .colab-df-quickchart {\n",
              "    background-color: var(--bg-color);\n",
              "    border: none;\n",
              "    border-radius: 50%;\n",
              "    cursor: pointer;\n",
              "    display: none;\n",
              "    fill: var(--fill-color);\n",
              "    height: 32px;\n",
              "    padding: 0;\n",
              "    width: 32px;\n",
              "  }\n",
              "\n",
              "  .colab-df-quickchart:hover {\n",
              "    background-color: var(--hover-bg-color);\n",
              "    box-shadow: 0 1px 2px rgba(60, 64, 67, 0.3), 0 1px 3px 1px rgba(60, 64, 67, 0.15);\n",
              "    fill: var(--button-hover-fill-color);\n",
              "  }\n",
              "\n",
              "  .colab-df-quickchart-complete:disabled,\n",
              "  .colab-df-quickchart-complete:disabled:hover {\n",
              "    background-color: var(--disabled-bg-color);\n",
              "    fill: var(--disabled-fill-color);\n",
              "    box-shadow: none;\n",
              "  }\n",
              "\n",
              "  .colab-df-spinner {\n",
              "    border: 2px solid var(--fill-color);\n",
              "    border-color: transparent;\n",
              "    border-bottom-color: var(--fill-color);\n",
              "    animation:\n",
              "      spin 1s steps(1) infinite;\n",
              "  }\n",
              "\n",
              "  @keyframes spin {\n",
              "    0% {\n",
              "      border-color: transparent;\n",
              "      border-bottom-color: var(--fill-color);\n",
              "      border-left-color: var(--fill-color);\n",
              "    }\n",
              "    20% {\n",
              "      border-color: transparent;\n",
              "      border-left-color: var(--fill-color);\n",
              "      border-top-color: var(--fill-color);\n",
              "    }\n",
              "    30% {\n",
              "      border-color: transparent;\n",
              "      border-left-color: var(--fill-color);\n",
              "      border-top-color: var(--fill-color);\n",
              "      border-right-color: var(--fill-color);\n",
              "    }\n",
              "    40% {\n",
              "      border-color: transparent;\n",
              "      border-right-color: var(--fill-color);\n",
              "      border-top-color: var(--fill-color);\n",
              "    }\n",
              "    60% {\n",
              "      border-color: transparent;\n",
              "      border-right-color: var(--fill-color);\n",
              "    }\n",
              "    80% {\n",
              "      border-color: transparent;\n",
              "      border-right-color: var(--fill-color);\n",
              "      border-bottom-color: var(--fill-color);\n",
              "    }\n",
              "    90% {\n",
              "      border-color: transparent;\n",
              "      border-bottom-color: var(--fill-color);\n",
              "    }\n",
              "  }\n",
              "</style>\n",
              "\n",
              "  <script>\n",
              "    async function quickchart(key) {\n",
              "      const quickchartButtonEl =\n",
              "        document.querySelector('#' + key + ' button');\n",
              "      quickchartButtonEl.disabled = true;  // To prevent multiple clicks.\n",
              "      quickchartButtonEl.classList.add('colab-df-spinner');\n",
              "      try {\n",
              "        const charts = await google.colab.kernel.invokeFunction(\n",
              "            'suggestCharts', [key], {});\n",
              "      } catch (error) {\n",
              "        console.error('Error during call to suggestCharts:', error);\n",
              "      }\n",
              "      quickchartButtonEl.classList.remove('colab-df-spinner');\n",
              "      quickchartButtonEl.classList.add('colab-df-quickchart-complete');\n",
              "    }\n",
              "    (() => {\n",
              "      let quickchartButtonEl =\n",
              "        document.querySelector('#df-95cf4a6f-b5f8-401f-bf66-3c746ab7ed8a button');\n",
              "      quickchartButtonEl.style.display =\n",
              "        google.colab.kernel.accessAllowed ? 'block' : 'none';\n",
              "    })();\n",
              "  </script>\n",
              "</div>\n",
              "    </div>\n",
              "  </div>\n"
            ]
          },
          "metadata": {},
          "execution_count": 284
        }
      ],
      "source": [
        "tuning.sort_values(by=\"Difference\")"
      ]
    },
    {
      "cell_type": "markdown",
      "id": "07e44b74",
      "metadata": {
        "id": "07e44b74"
      },
      "source": [
        "The best model is the one which is trained for 40 epochs. There can be many other hyperparameters but since Perceptron is coded from scratch those cannot be incorporated. The one with 80 epoches is not considered since the train accuracy must be greater than the test accuracy because the model is trained on the former."
      ]
    },
    {
      "cell_type": "markdown",
      "source": [
        "Apply the perceptron to anyone of the dataset from the following link.\n",
        "\n",
        "https://www.kaggle.com/datasets?tags=14201-Binary+Classification\n",
        "\n",
        "Prepare the Part B and upload."
      ],
      "metadata": {
        "id": "6RjR8-Il_HaE"
      },
      "id": "6RjR8-Il_HaE"
    },
    {
      "cell_type": "markdown",
      "id": "a58111ed",
      "metadata": {
        "id": "a58111ed"
      },
      "source": [
        "# References"
      ]
    },
    {
      "cell_type": "markdown",
      "id": "25a502ed",
      "metadata": {
        "id": "25a502ed"
      },
      "source": [
        "About Perceptron : https://analyticsindiamag.com/perceptron-is-the-only-neural-network-without-any-hidden-layer/\n",
        "\n",
        "For Perceptron from scratch : https://towardsdatascience.com/perceptron-algorithm-in-python-f3ac89d2e537\n",
        "\n",
        "Dataset : https://archive.ics.uci.edu/ml/datasets/credit+approval"
      ]
    },
    {
      "cell_type": "code",
      "source": [],
      "metadata": {
        "id": "lvmtDeLff5q0"
      },
      "id": "lvmtDeLff5q0",
      "execution_count": 284,
      "outputs": []
    }
  ],
  "metadata": {
    "kernelspec": {
      "display_name": "Python 3 (ipykernel)",
      "language": "python",
      "name": "python3"
    },
    "language_info": {
      "codemirror_mode": {
        "name": "ipython",
        "version": 3
      },
      "file_extension": ".py",
      "mimetype": "text/x-python",
      "name": "python",
      "nbconvert_exporter": "python",
      "pygments_lexer": "ipython3",
      "version": "3.9.7"
    },
    "colab": {
      "provenance": []
    }
  },
  "nbformat": 4,
  "nbformat_minor": 5
}